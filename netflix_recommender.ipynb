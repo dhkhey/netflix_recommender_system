{
  "cells": [
    {
      "cell_type": "code",
      "execution_count": 2,
      "metadata": {
        "id": "VEo89jkpB-LA"
      },
      "outputs": [],
      "source": [
        "import numpy as np \n",
        "import pandas as pd\n",
        "from collections import defaultdict\n",
        "import numpy as np \n",
        "import pickle\n",
        "import seaborn as sns \n",
        "import matplotlib.pyplot as plt \n",
        "import matplotlib \n",
        "from sklearn.metrics.pairwise import cosine_similarity\n",
        "from sklearn.model_selection import train_test_split\n"
      ]
    },
    {
      "cell_type": "code",
      "execution_count": 3,
      "metadata": {},
      "outputs": [],
      "source": [
        "assert pd.__version__ == '1.3.0', \"Pandas version needs to be updated to 1.3.0\""
      ]
    },
    {
      "cell_type": "code",
      "execution_count": 3,
      "metadata": {
        "id": "ob8P5B5wB_h7"
      },
      "outputs": [],
      "source": [
        "# data = open('./data.csv', mode='w')\n",
        "# row = list()\n",
        "# files=['combined_data_1.txt','combined_data_2.txt', \n",
        "#        'combined_data_3.txt', 'combined_data_4.txt']\n",
        "# for file in files:\n",
        "#     with open(file) as f:\n",
        "#         for line in f: \n",
        "#             line = line.strip()\n",
        "#             if line.endswith(':'):\n",
        "#                 movie_id = line.replace(':', '')\n",
        "#             else:\n",
        "#                 row = [x for x in line.split(',')]\n",
        "#                 row.insert(0, movie_id)\n",
        "#                 data.write(','.join(row))\n",
        "#                 data.write('\\n')\n",
        "# data.close()"
      ]
    },
    {
      "cell_type": "code",
      "execution_count": 4,
      "metadata": {
        "id": "VidvogxUCEuD"
      },
      "outputs": [],
      "source": [
        "# ratings = pd.read_csv('data.csv', sep=',', \n",
        "#                        names=['movieId', 'userId','rating','date'])\n",
        "# ratings.date = pd.to_datetime(ratings.date)\n",
        "# ratings.sort_values(by='date', inplace=True)"
      ]
    },
    {
      "cell_type": "code",
      "execution_count": 5,
      "metadata": {},
      "outputs": [],
      "source": [
        "# ratings = ratings[['movieId','userId','rating']]\n",
        "# ratings.head()"
      ]
    },
    {
      "cell_type": "code",
      "execution_count": 6,
      "metadata": {},
      "outputs": [],
      "source": [
        "# user_ids = []\n",
        "# for i in range(ratings.shape[0]):\n",
        "#     if i % 100000 == 0:\n",
        "#         print(i)\n",
        "#     ratings['userId'][i] = 'u'+ str(ratings['userId'][i])"
      ]
    },
    {
      "cell_type": "code",
      "execution_count": 7,
      "metadata": {},
      "outputs": [],
      "source": [
        "# ratings['movieId'] = movie_ids\n",
        "# ratings['userId'] = user_ids\n",
        "\n",
        "# ratings.to_csv('./data_processed.csv', index=False)"
      ]
    },
    {
      "cell_type": "code",
      "execution_count": 8,
      "metadata": {},
      "outputs": [],
      "source": [
        "# ratings = pd.read_csv('./data_processed.csv', sep=',',  header=0)\n",
        "# ratings.head()"
      ]
    },
    {
      "cell_type": "code",
      "execution_count": 9,
      "metadata": {
        "colab": {
          "base_uri": "https://localhost:8080/",
          "height": 359
        },
        "id": "E2XTaSRYCaL8",
        "outputId": "92fbbeb2-6045-44cf-9f37-e756e37aa8b4"
      },
      "outputs": [],
      "source": [
        "# title_df = pd.read_csv('movie_titles.csv', encoding = \"ISO-8859-1\", header = None, names = ['movie', 'year', 'title'])\n",
        "# title_df.rename(columns={'movie':'movieId'}, inplace=True)\n",
        "# title_df.head(10)"
      ]
    },
    {
      "cell_type": "code",
      "execution_count": 10,
      "metadata": {
        "id": "UvelvCVDCgTj"
      },
      "outputs": [],
      "source": [
        "# ratings_df = ratings.merge(title_df, left_on='movieId', right_on='movieId')"
      ]
    },
    {
      "cell_type": "code",
      "execution_count": 11,
      "metadata": {},
      "outputs": [],
      "source": [
        "# with open('rating_df.pkl', 'wb') as handle:\n",
        "#     pickle.dump(ratings_df, handle, protocol=pickle.HIGHEST_PROTOCOL)"
      ]
    },
    {
      "cell_type": "code",
      "execution_count": 4,
      "metadata": {},
      "outputs": [],
      "source": [
        "# Load data (deserialize)\n",
        "with open('rating_df.pkl', 'rb') as handle:\n",
        "    ratings_df = pickle.load(handle)\n"
      ]
    },
    {
      "cell_type": "code",
      "execution_count": 34,
      "metadata": {},
      "outputs": [
        {
          "data": {
            "text/html": [
              "<div>\n",
              "<style scoped>\n",
              "    .dataframe tbody tr th:only-of-type {\n",
              "        vertical-align: middle;\n",
              "    }\n",
              "\n",
              "    .dataframe tbody tr th {\n",
              "        vertical-align: top;\n",
              "    }\n",
              "\n",
              "    .dataframe thead th {\n",
              "        text-align: right;\n",
              "    }\n",
              "</style>\n",
              "<table border=\"1\" class=\"dataframe\">\n",
              "  <thead>\n",
              "    <tr style=\"text-align: right;\">\n",
              "      <th></th>\n",
              "      <th>movieId</th>\n",
              "      <th>userId</th>\n",
              "      <th>rating</th>\n",
              "      <th>year</th>\n",
              "      <th>title</th>\n",
              "    </tr>\n",
              "  </thead>\n",
              "  <tbody>\n",
              "    <tr>\n",
              "      <th>0</th>\n",
              "      <td>1</td>\n",
              "      <td>u1488844</td>\n",
              "      <td>3</td>\n",
              "      <td>2003.0</td>\n",
              "      <td>Dinosaur Planet</td>\n",
              "    </tr>\n",
              "    <tr>\n",
              "      <th>1</th>\n",
              "      <td>1</td>\n",
              "      <td>u822109</td>\n",
              "      <td>5</td>\n",
              "      <td>2003.0</td>\n",
              "      <td>Dinosaur Planet</td>\n",
              "    </tr>\n",
              "    <tr>\n",
              "      <th>2</th>\n",
              "      <td>1</td>\n",
              "      <td>u885013</td>\n",
              "      <td>4</td>\n",
              "      <td>2003.0</td>\n",
              "      <td>Dinosaur Planet</td>\n",
              "    </tr>\n",
              "    <tr>\n",
              "      <th>3</th>\n",
              "      <td>1</td>\n",
              "      <td>u30878</td>\n",
              "      <td>4</td>\n",
              "      <td>2003.0</td>\n",
              "      <td>Dinosaur Planet</td>\n",
              "    </tr>\n",
              "    <tr>\n",
              "      <th>4</th>\n",
              "      <td>1</td>\n",
              "      <td>u823519</td>\n",
              "      <td>3</td>\n",
              "      <td>2003.0</td>\n",
              "      <td>Dinosaur Planet</td>\n",
              "    </tr>\n",
              "  </tbody>\n",
              "</table>\n",
              "</div>"
            ],
            "text/plain": [
              "   movieId    userId  rating    year            title\n",
              "0        1  u1488844       3  2003.0  Dinosaur Planet\n",
              "1        1   u822109       5  2003.0  Dinosaur Planet\n",
              "2        1   u885013       4  2003.0  Dinosaur Planet\n",
              "3        1    u30878       4  2003.0  Dinosaur Planet\n",
              "4        1   u823519       3  2003.0  Dinosaur Planet"
            ]
          },
          "execution_count": 34,
          "metadata": {},
          "output_type": "execute_result"
        }
      ],
      "source": [
        "ratings_df.head()"
      ]
    },
    {
      "cell_type": "code",
      "execution_count": 35,
      "metadata": {},
      "outputs": [
        {
          "data": {
            "text/html": [
              "<div>\n",
              "<style scoped>\n",
              "    .dataframe tbody tr th:only-of-type {\n",
              "        vertical-align: middle;\n",
              "    }\n",
              "\n",
              "    .dataframe tbody tr th {\n",
              "        vertical-align: top;\n",
              "    }\n",
              "\n",
              "    .dataframe thead th {\n",
              "        text-align: right;\n",
              "    }\n",
              "</style>\n",
              "<table border=\"1\" class=\"dataframe\">\n",
              "  <thead>\n",
              "    <tr style=\"text-align: right;\">\n",
              "      <th></th>\n",
              "      <th>movieId</th>\n",
              "      <th>userId</th>\n",
              "      <th>rating</th>\n",
              "      <th>year</th>\n",
              "      <th>title</th>\n",
              "    </tr>\n",
              "  </thead>\n",
              "  <tbody>\n",
              "    <tr>\n",
              "      <th>100480502</th>\n",
              "      <td>17770</td>\n",
              "      <td>u1790158</td>\n",
              "      <td>4</td>\n",
              "      <td>2003.0</td>\n",
              "      <td>Alien Hunter</td>\n",
              "    </tr>\n",
              "    <tr>\n",
              "      <th>100480503</th>\n",
              "      <td>17770</td>\n",
              "      <td>u1608708</td>\n",
              "      <td>3</td>\n",
              "      <td>2003.0</td>\n",
              "      <td>Alien Hunter</td>\n",
              "    </tr>\n",
              "    <tr>\n",
              "      <th>100480504</th>\n",
              "      <td>17770</td>\n",
              "      <td>u234275</td>\n",
              "      <td>1</td>\n",
              "      <td>2003.0</td>\n",
              "      <td>Alien Hunter</td>\n",
              "    </tr>\n",
              "    <tr>\n",
              "      <th>100480505</th>\n",
              "      <td>17770</td>\n",
              "      <td>u255278</td>\n",
              "      <td>4</td>\n",
              "      <td>2003.0</td>\n",
              "      <td>Alien Hunter</td>\n",
              "    </tr>\n",
              "    <tr>\n",
              "      <th>100480506</th>\n",
              "      <td>17770</td>\n",
              "      <td>u453585</td>\n",
              "      <td>2</td>\n",
              "      <td>2003.0</td>\n",
              "      <td>Alien Hunter</td>\n",
              "    </tr>\n",
              "  </tbody>\n",
              "</table>\n",
              "</div>"
            ],
            "text/plain": [
              "           movieId    userId  rating    year         title\n",
              "100480502    17770  u1790158       4  2003.0  Alien Hunter\n",
              "100480503    17770  u1608708       3  2003.0  Alien Hunter\n",
              "100480504    17770   u234275       1  2003.0  Alien Hunter\n",
              "100480505    17770   u255278       4  2003.0  Alien Hunter\n",
              "100480506    17770   u453585       2  2003.0  Alien Hunter"
            ]
          },
          "execution_count": 35,
          "metadata": {},
          "output_type": "execute_result"
        }
      ],
      "source": [
        "ratings_df.tail()"
      ]
    },
    {
      "cell_type": "code",
      "execution_count": 5,
      "metadata": {},
      "outputs": [],
      "source": [
        "rating_freq_df = ratings_df[['userId','rating']].groupby(by=['userId'],as_index=False).count()"
      ]
    },
    {
      "cell_type": "code",
      "execution_count": 9,
      "metadata": {},
      "outputs": [],
      "source": [
        "movie_rating_freq_df = ratings_df[['movieId','rating']].groupby(by=['movieId'],as_index=False).count()"
      ]
    },
    {
      "cell_type": "code",
      "execution_count": 28,
      "metadata": {},
      "outputs": [],
      "source": [
        "rating_freq_df = ratings_df[['movieId','rating']].groupby(by=['rating'],as_index=False).count()"
      ]
    },
    {
      "cell_type": "code",
      "execution_count": 33,
      "metadata": {},
      "outputs": [
        {
          "data": {
            "text/plain": [
              "Text(0.5, 1.0, '# of review count for each rating')"
            ]
          },
          "execution_count": 33,
          "metadata": {},
          "output_type": "execute_result"
        },
        {
          "data": {
            "image/png": "[encoded data removed]",
            "text/plain": [
              "<Figure size 432x288 with 1 Axes>"
            ]
          },
          "metadata": {},
          "output_type": "display_data"
        }
      ],
      "source": [
        "sns.set_theme(style=\"whitegrid\")\n",
        "sns.barplot(x=\"rating\", y=\"movieId\", data=rating_freq_df)\n",
        "plt.ylabel('# of reviews')\n",
        "plt.title('# of review count for each rating')"
      ]
    },
    {
      "cell_type": "code",
      "execution_count": 8,
      "metadata": {},
      "outputs": [
        {
          "data": {
            "text/plain": [
              "Text(0.5, 1.0, 'Histogram of # of ratings by all users')"
            ]
          },
          "execution_count": 8,
          "metadata": {},
          "output_type": "execute_result"
        },
        {
          "data": {
            "image/png": "[encoded data removed]",
            "text/plain": [
              "<Figure size 432x288 with 1 Axes>"
            ]
          },
          "metadata": {
            "needs_background": "light"
          },
          "output_type": "display_data"
        }
      ],
      "source": [
        "sns.histplot(data=rating_freq_df, x='rating',kde=True, log_scale=True, bins=30)\n",
        "plt.xlabel('# of rating')\n",
        "plt.ylabel('frequency')\n",
        "plt.title('Histogram of # of ratings by all users')"
      ]
    },
    {
      "cell_type": "code",
      "execution_count": null,
      "metadata": {},
      "outputs": [],
      "source": []
    },
    {
      "cell_type": "code",
      "execution_count": 11,
      "metadata": {},
      "outputs": [
        {
          "data": {
            "text/plain": [
              "Text(0.5, 1.0, 'Histogram of # of ratings of all movies')"
            ]
          },
          "execution_count": 11,
          "metadata": {},
          "output_type": "execute_result"
        },
        {
          "data": {
            "image/png": "[encoded data removed]",
            "text/plain": [
              "<Figure size 432x288 with 1 Axes>"
            ]
          },
          "metadata": {
            "needs_background": "light"
          },
          "output_type": "display_data"
        }
      ],
      "source": [
        "sns.histplot(data=movie_rating_freq_df, x='rating',kde=True, log_scale=True, bins=30)\n",
        "plt.xlabel('# of rating')\n",
        "plt.ylabel('frequency')\n",
        "plt.title('Histogram of # of ratings of all movies')"
      ]
    },
    {
      "cell_type": "code",
      "execution_count": 27,
      "metadata": {},
      "outputs": [
        {
          "data": {
            "text/plain": [
              "[541,\n",
              " 541,\n",
              " 541,\n",
              " 541,\n",
              " 541,\n",
              " 541,\n",
              " 541,\n",
              " 541,\n",
              " 541,\n",
              " 541,\n",
              " 541,\n",
              " 541,\n",
              " 541,\n",
              " 541,\n",
              " 541,\n",
              " 541,\n",
              " 541,\n",
              " 541,\n",
              " 541,\n",
              " 541,\n",
              " 541,\n",
              " 541,\n",
              " 541,\n",
              " 541,\n",
              " 541,\n",
              " 541,\n",
              " 541,\n",
              " 541,\n",
              " 541,\n",
              " 541,\n",
              " 541,\n",
              " 541,\n",
              " 541,\n",
              " 541,\n",
              " 541,\n",
              " 541,\n",
              " 541,\n",
              " 541,\n",
              " 541,\n",
              " 541,\n",
              " 541,\n",
              " 541,\n",
              " 541,\n",
              " 541,\n",
              " 541,\n",
              " 541,\n",
              " 541,\n",
              " 541,\n",
              " 541,\n",
              " 541,\n",
              " 541,\n",
              " 541,\n",
              " 541,\n",
              " 541,\n",
              " 541,\n",
              " 541,\n",
              " 541,\n",
              " 541,\n",
              " 541,\n",
              " 541,\n",
              " 541,\n",
              " 541,\n",
              " 541,\n",
              " 541,\n",
              " 541,\n",
              " 541,\n",
              " 541,\n",
              " 541,\n",
              " 541,\n",
              " 541,\n",
              " 541,\n",
              " 541,\n",
              " 541,\n",
              " 541,\n",
              " 541,\n",
              " 541,\n",
              " 541,\n",
              " 541,\n",
              " 541,\n",
              " 541,\n",
              " 541,\n",
              " 541,\n",
              " 541,\n",
              " 541,\n",
              " 541,\n",
              " 541,\n",
              " 541,\n",
              " 541,\n",
              " 541,\n",
              " 541,\n",
              " 541,\n",
              " 541,\n",
              " 541,\n",
              " 541,\n",
              " 541,\n",
              " 541,\n",
              " 541,\n",
              " 541,\n",
              " 541,\n",
              " 541,\n",
              " 541,\n",
              " 541,\n",
              " 541,\n",
              " 541,\n",
              " 541,\n",
              " 541,\n",
              " 541,\n",
              " 541,\n",
              " 541,\n",
              " 541,\n",
              " 541,\n",
              " 541,\n",
              " 541,\n",
              " 541,\n",
              " 541,\n",
              " 541,\n",
              " 541,\n",
              " 541,\n",
              " 542,\n",
              " 542,\n",
              " 542,\n",
              " 542,\n",
              " 542,\n",
              " 542,\n",
              " 542,\n",
              " 542,\n",
              " 542,\n",
              " 542,\n",
              " 542,\n",
              " 542,\n",
              " 542,\n",
              " 542,\n",
              " 542,\n",
              " 542,\n",
              " 542,\n",
              " 542,\n",
              " 542,\n",
              " 542,\n",
              " 542,\n",
              " 542,\n",
              " 542,\n",
              " 542,\n",
              " 542,\n",
              " 542,\n",
              " 542,\n",
              " 542,\n",
              " 542,\n",
              " 542,\n",
              " 542,\n",
              " 542,\n",
              " 542,\n",
              " 542,\n",
              " 542,\n",
              " 542,\n",
              " 542,\n",
              " 542,\n",
              " 542,\n",
              " 542,\n",
              " 542,\n",
              " 542,\n",
              " 542,\n",
              " 542,\n",
              " 542,\n",
              " 542,\n",
              " 542,\n",
              " 542,\n",
              " 542,\n",
              " 542,\n",
              " 542,\n",
              " 542,\n",
              " 542,\n",
              " 542,\n",
              " 542,\n",
              " 542,\n",
              " 542,\n",
              " 542,\n",
              " 542,\n",
              " 542,\n",
              " 542,\n",
              " 542,\n",
              " 542,\n",
              " 542,\n",
              " 542,\n",
              " 542,\n",
              " 542,\n",
              " 542,\n",
              " 542,\n",
              " 542,\n",
              " 542,\n",
              " 542,\n",
              " 542,\n",
              " 542,\n",
              " 542,\n",
              " 542,\n",
              " 542,\n",
              " 542,\n",
              " 542,\n",
              " 542,\n",
              " 542,\n",
              " 542,\n",
              " 542,\n",
              " 542,\n",
              " 542,\n",
              " 542,\n",
              " 542,\n",
              " 542,\n",
              " 542,\n",
              " 542,\n",
              " 542,\n",
              " 542,\n",
              " 542,\n",
              " 542,\n",
              " 542,\n",
              " 542,\n",
              " 542,\n",
              " 542,\n",
              " 542,\n",
              " 542,\n",
              " 542,\n",
              " 542,\n",
              " 542,\n",
              " 542,\n",
              " 542,\n",
              " 542,\n",
              " 542,\n",
              " 542,\n",
              " 542,\n",
              " 542,\n",
              " 542,\n",
              " 542,\n",
              " 542,\n",
              " 542,\n",
              " 542,\n",
              " 542,\n",
              " 542,\n",
              " 542,\n",
              " 542,\n",
              " 542,\n",
              " 542,\n",
              " 542,\n",
              " 542,\n",
              " 542,\n",
              " 542,\n",
              " 542,\n",
              " 542,\n",
              " 542,\n",
              " 542,\n",
              " 542,\n",
              " 542,\n",
              " 542,\n",
              " 542,\n",
              " 542,\n",
              " 542,\n",
              " 542,\n",
              " 542,\n",
              " 542,\n",
              " 542,\n",
              " 542,\n",
              " 542,\n",
              " 542,\n",
              " 542,\n",
              " 542,\n",
              " 542,\n",
              " 542,\n",
              " 542,\n",
              " 542,\n",
              " 542,\n",
              " 542,\n",
              " 542,\n",
              " 542,\n",
              " 542,\n",
              " 542,\n",
              " 542,\n",
              " 542,\n",
              " 543,\n",
              " 543,\n",
              " 543,\n",
              " 543,\n",
              " 543,\n",
              " 543,\n",
              " 543,\n",
              " 543,\n",
              " 543,\n",
              " 543,\n",
              " 543,\n",
              " 543,\n",
              " 543,\n",
              " 543,\n",
              " 543,\n",
              " 543,\n",
              " 543,\n",
              " 543,\n",
              " 543,\n",
              " 543,\n",
              " 543,\n",
              " 543,\n",
              " 543,\n",
              " 543,\n",
              " 543,\n",
              " 543,\n",
              " 543,\n",
              " 543,\n",
              " 543,\n",
              " 543,\n",
              " 543,\n",
              " 543,\n",
              " 543,\n",
              " 543,\n",
              " 543,\n",
              " 543,\n",
              " 543,\n",
              " 543,\n",
              " 543,\n",
              " 543,\n",
              " 543,\n",
              " 543,\n",
              " 543,\n",
              " 543,\n",
              " 543,\n",
              " 543,\n",
              " 543,\n",
              " 543,\n",
              " 543,\n",
              " 543,\n",
              " 543,\n",
              " 543,\n",
              " 543,\n",
              " 543,\n",
              " 543,\n",
              " 543,\n",
              " 543,\n",
              " 543,\n",
              " 543,\n",
              " 543,\n",
              " 543,\n",
              " 543,\n",
              " 543,\n",
              " 543,\n",
              " 543,\n",
              " 543,\n",
              " 543,\n",
              " 543,\n",
              " 543,\n",
              " 543,\n",
              " 543,\n",
              " 543,\n",
              " 543,\n",
              " 543,\n",
              " 543,\n",
              " 543,\n",
              " 543,\n",
              " 543,\n",
              " 543,\n",
              " 543,\n",
              " 543,\n",
              " 543,\n",
              " 543,\n",
              " 543,\n",
              " 543,\n",
              " 543,\n",
              " 543,\n",
              " 543,\n",
              " 543,\n",
              " 543,\n",
              " 543,\n",
              " 543,\n",
              " 543,\n",
              " 543,\n",
              " 543,\n",
              " 543,\n",
              " 543,\n",
              " 543,\n",
              " 543,\n",
              " 543,\n",
              " 543,\n",
              " 543,\n",
              " 543,\n",
              " 543,\n",
              " 543,\n",
              " 543,\n",
              " 543,\n",
              " 543,\n",
              " 543,\n",
              " 543,\n",
              " 543,\n",
              " 543,\n",
              " 543,\n",
              " 543,\n",
              " 543,\n",
              " 543,\n",
              " 543,\n",
              " 543,\n",
              " 543,\n",
              " 543,\n",
              " 543,\n",
              " 543,\n",
              " 543,\n",
              " 544,\n",
              " 544,\n",
              " 544,\n",
              " 544,\n",
              " 544,\n",
              " 544,\n",
              " 544,\n",
              " 544,\n",
              " 544,\n",
              " 544,\n",
              " 544,\n",
              " 544,\n",
              " 544,\n",
              " 544,\n",
              " 544,\n",
              " 544,\n",
              " 544,\n",
              " 544,\n",
              " 544,\n",
              " 544,\n",
              " 544,\n",
              " 544,\n",
              " 544,\n",
              " 544,\n",
              " 544,\n",
              " 544,\n",
              " 544,\n",
              " 544,\n",
              " 544,\n",
              " 544,\n",
              " 544,\n",
              " 544,\n",
              " 544,\n",
              " 544,\n",
              " 544,\n",
              " 544,\n",
              " 544,\n",
              " 544,\n",
              " 544,\n",
              " 544,\n",
              " 544,\n",
              " 544,\n",
              " 544,\n",
              " 544,\n",
              " 544,\n",
              " 544,\n",
              " 544,\n",
              " 544,\n",
              " 544,\n",
              " 544,\n",
              " 544,\n",
              " 544,\n",
              " 544,\n",
              " 544,\n",
              " 544,\n",
              " 544,\n",
              " 544,\n",
              " 544,\n",
              " 544,\n",
              " 544,\n",
              " 544,\n",
              " 544,\n",
              " 544,\n",
              " 544,\n",
              " 544,\n",
              " 544,\n",
              " 544,\n",
              " 544,\n",
              " 544,\n",
              " 544,\n",
              " 544,\n",
              " 544,\n",
              " 544,\n",
              " 544,\n",
              " 544,\n",
              " 544,\n",
              " 544,\n",
              " 544,\n",
              " 544,\n",
              " 544,\n",
              " 544,\n",
              " 544,\n",
              " 544,\n",
              " 544,\n",
              " 544,\n",
              " 544,\n",
              " 544,\n",
              " 544,\n",
              " 544,\n",
              " 544,\n",
              " 544,\n",
              " 544,\n",
              " 544,\n",
              " 544,\n",
              " 544,\n",
              " 544,\n",
              " 544,\n",
              " 544,\n",
              " 544,\n",
              " 544,\n",
              " 544,\n",
              " 544,\n",
              " 544,\n",
              " 544,\n",
              " 544,\n",
              " 544,\n",
              " 544,\n",
              " 544,\n",
              " 544,\n",
              " 544,\n",
              " 544,\n",
              " 544,\n",
              " 544,\n",
              " 544,\n",
              " 544,\n",
              " 544,\n",
              " 544,\n",
              " 544,\n",
              " 544,\n",
              " 544,\n",
              " 544,\n",
              " 544,\n",
              " 544,\n",
              " 544,\n",
              " 544,\n",
              " 544,\n",
              " 544,\n",
              " 544,\n",
              " 544,\n",
              " 544,\n",
              " 544,\n",
              " 544,\n",
              " 544,\n",
              " 544,\n",
              " 544,\n",
              " 544,\n",
              " 544,\n",
              " 544,\n",
              " 544,\n",
              " 544,\n",
              " 544,\n",
              " 544,\n",
              " 544,\n",
              " 544,\n",
              " 544,\n",
              " 544,\n",
              " 544,\n",
              " 544,\n",
              " 544,\n",
              " 544,\n",
              " 544,\n",
              " 544,\n",
              " 544,\n",
              " 544,\n",
              " 545,\n",
              " 545,\n",
              " 545,\n",
              " 545,\n",
              " 545,\n",
              " 545,\n",
              " 545,\n",
              " 545,\n",
              " 545,\n",
              " 545,\n",
              " 545,\n",
              " 545,\n",
              " 545,\n",
              " 545,\n",
              " 545,\n",
              " 545,\n",
              " 545,\n",
              " 545,\n",
              " 545,\n",
              " 545,\n",
              " 545,\n",
              " 545,\n",
              " 545,\n",
              " 545,\n",
              " 545,\n",
              " 545,\n",
              " 545,\n",
              " 545,\n",
              " 545,\n",
              " 545,\n",
              " 545,\n",
              " 545,\n",
              " 545,\n",
              " 545,\n",
              " 545,\n",
              " 545,\n",
              " 545,\n",
              " 545,\n",
              " 545,\n",
              " 545,\n",
              " 545,\n",
              " 545,\n",
              " 545,\n",
              " 545,\n",
              " 545,\n",
              " 545,\n",
              " 545,\n",
              " 545,\n",
              " 545,\n",
              " 545,\n",
              " 545,\n",
              " 545,\n",
              " 545,\n",
              " 545,\n",
              " 545,\n",
              " 545,\n",
              " 545,\n",
              " 545,\n",
              " 545,\n",
              " 545,\n",
              " 545,\n",
              " 545,\n",
              " 545,\n",
              " 545,\n",
              " 545,\n",
              " 545,\n",
              " 545,\n",
              " 545,\n",
              " 545,\n",
              " 545,\n",
              " 545,\n",
              " 545,\n",
              " 545,\n",
              " 545,\n",
              " 545,\n",
              " 545,\n",
              " 545,\n",
              " 545,\n",
              " 545,\n",
              " 545,\n",
              " 545,\n",
              " 545,\n",
              " 545,\n",
              " 545,\n",
              " 545,\n",
              " 545,\n",
              " 545,\n",
              " 545,\n",
              " 545,\n",
              " 545,\n",
              " 545,\n",
              " 545,\n",
              " 545,\n",
              " 545,\n",
              " 545,\n",
              " 545,\n",
              " 545,\n",
              " 545,\n",
              " 545,\n",
              " 545,\n",
              " 545,\n",
              " 545,\n",
              " 545,\n",
              " 545,\n",
              " 545,\n",
              " 545,\n",
              " 545,\n",
              " 545,\n",
              " 545,\n",
              " 545,\n",
              " 545,\n",
              " 545,\n",
              " 545,\n",
              " 545,\n",
              " 545,\n",
              " 545,\n",
              " 545,\n",
              " 545,\n",
              " 545,\n",
              " 545,\n",
              " 545,\n",
              " 545,\n",
              " 545,\n",
              " 545,\n",
              " 545,\n",
              " 545,\n",
              " 545,\n",
              " 545,\n",
              " 545,\n",
              " 545,\n",
              " 545,\n",
              " 545,\n",
              " 545,\n",
              " 546,\n",
              " 546,\n",
              " 546,\n",
              " 546,\n",
              " 546,\n",
              " 546,\n",
              " 546,\n",
              " 546,\n",
              " 546,\n",
              " 546,\n",
              " 546,\n",
              " 546,\n",
              " 546,\n",
              " 546,\n",
              " 546,\n",
              " 546,\n",
              " 546,\n",
              " 546,\n",
              " 546,\n",
              " 546,\n",
              " 546,\n",
              " 546,\n",
              " 546,\n",
              " 546,\n",
              " 546,\n",
              " 546,\n",
              " 546,\n",
              " 546,\n",
              " 546,\n",
              " 546,\n",
              " 546,\n",
              " 546,\n",
              " 546,\n",
              " 546,\n",
              " 546,\n",
              " 546,\n",
              " 546,\n",
              " 546,\n",
              " 546,\n",
              " 546,\n",
              " 546,\n",
              " 546,\n",
              " 546,\n",
              " 546,\n",
              " 546,\n",
              " 546,\n",
              " 546,\n",
              " 546,\n",
              " 546,\n",
              " 546,\n",
              " 546,\n",
              " 546,\n",
              " 546,\n",
              " 546,\n",
              " 546,\n",
              " 546,\n",
              " 546,\n",
              " 546,\n",
              " 546,\n",
              " 546,\n",
              " 546,\n",
              " 546,\n",
              " 546,\n",
              " 546,\n",
              " 546,\n",
              " 546,\n",
              " 546,\n",
              " 546,\n",
              " 546,\n",
              " 546,\n",
              " 546,\n",
              " 546,\n",
              " 546,\n",
              " 546,\n",
              " 546,\n",
              " 546,\n",
              " 546,\n",
              " 546,\n",
              " 546,\n",
              " 546,\n",
              " 546,\n",
              " 546,\n",
              " 546,\n",
              " 546,\n",
              " 546,\n",
              " 546,\n",
              " 546,\n",
              " 546,\n",
              " 546,\n",
              " 546,\n",
              " 546,\n",
              " 546,\n",
              " 546,\n",
              " 546,\n",
              " 546,\n",
              " 546,\n",
              " 546,\n",
              " 546,\n",
              " 546,\n",
              " 546,\n",
              " 546,\n",
              " 546,\n",
              " 546,\n",
              " 546,\n",
              " 546,\n",
              " 546,\n",
              " 546,\n",
              " 546,\n",
              " 546,\n",
              " 546,\n",
              " 546,\n",
              " 546,\n",
              " 546,\n",
              " 546,\n",
              " 546,\n",
              " 546,\n",
              " 546,\n",
              " 546,\n",
              " 546,\n",
              " 546,\n",
              " 546,\n",
              " 546,\n",
              " 546,\n",
              " 546,\n",
              " 546,\n",
              " 546,\n",
              " 546,\n",
              " 546,\n",
              " 546,\n",
              " 546,\n",
              " 546,\n",
              " 546,\n",
              " 546,\n",
              " 546,\n",
              " 546,\n",
              " 546,\n",
              " 547,\n",
              " 547,\n",
              " 547,\n",
              " 547,\n",
              " 547,\n",
              " 547,\n",
              " 547,\n",
              " 547,\n",
              " 547,\n",
              " 547,\n",
              " 547,\n",
              " 547,\n",
              " 547,\n",
              " 547,\n",
              " 547,\n",
              " 547,\n",
              " 547,\n",
              " 547,\n",
              " 547,\n",
              " 547,\n",
              " 547,\n",
              " 547,\n",
              " 547,\n",
              " 547,\n",
              " 547,\n",
              " 547,\n",
              " 547,\n",
              " 547,\n",
              " 547,\n",
              " 547,\n",
              " 547,\n",
              " 547,\n",
              " 547,\n",
              " 547,\n",
              " 547,\n",
              " 547,\n",
              " 547,\n",
              " 547,\n",
              " 547,\n",
              " 547,\n",
              " 547,\n",
              " 547,\n",
              " 547,\n",
              " 547,\n",
              " 547,\n",
              " 547,\n",
              " 547,\n",
              " 547,\n",
              " 547,\n",
              " 547,\n",
              " 547,\n",
              " 547,\n",
              " 547,\n",
              " 547,\n",
              " 547,\n",
              " 547,\n",
              " 547,\n",
              " 547,\n",
              " 547,\n",
              " 547,\n",
              " 547,\n",
              " 547,\n",
              " 547,\n",
              " 547,\n",
              " 547,\n",
              " 547,\n",
              " 547,\n",
              " 547,\n",
              " 547,\n",
              " 547,\n",
              " 547,\n",
              " 547,\n",
              " 547,\n",
              " 547,\n",
              " 547,\n",
              " 547,\n",
              " 547,\n",
              " 547,\n",
              " 547,\n",
              " 547,\n",
              " 547,\n",
              " 547,\n",
              " 547,\n",
              " 547,\n",
              " 547,\n",
              " 547,\n",
              " 547,\n",
              " 547,\n",
              " 547,\n",
              " 547,\n",
              " 547,\n",
              " 547,\n",
              " 547,\n",
              " 547,\n",
              " 547,\n",
              " 547,\n",
              " 547,\n",
              " 547,\n",
              " 547,\n",
              " 547,\n",
              " 547,\n",
              " 547,\n",
              " 547,\n",
              " 547,\n",
              " 547,\n",
              " 547,\n",
              " 547,\n",
              " 547,\n",
              " 547,\n",
              " 547,\n",
              " 547,\n",
              " 547,\n",
              " 547,\n",
              " 547,\n",
              " 547,\n",
              " 547,\n",
              " 547,\n",
              " 547,\n",
              " 547,\n",
              " 547,\n",
              " 547,\n",
              " 547,\n",
              " 547,\n",
              " 547,\n",
              " 547,\n",
              " 547,\n",
              " 547,\n",
              " 547,\n",
              " 547,\n",
              " 547,\n",
              " 547,\n",
              " 547,\n",
              " 547,\n",
              " 547,\n",
              " 547,\n",
              " 547,\n",
              " 547,\n",
              " 547,\n",
              " 547,\n",
              " 547,\n",
              " 547,\n",
              " 547,\n",
              " 547,\n",
              " 547,\n",
              " 547,\n",
              " 547,\n",
              " 547,\n",
              " 547,\n",
              " 547,\n",
              " 547,\n",
              " 548,\n",
              " 548,\n",
              " 548,\n",
              " 548,\n",
              " 548,\n",
              " 548,\n",
              " 548,\n",
              " 548,\n",
              " 548,\n",
              " 548,\n",
              " 548,\n",
              " 548,\n",
              " 548,\n",
              " 548,\n",
              " 548,\n",
              " 548,\n",
              " 548,\n",
              " 548,\n",
              " 548,\n",
              " 548,\n",
              " 548,\n",
              " 548,\n",
              " 548,\n",
              " 548,\n",
              " 548,\n",
              " 548,\n",
              " 548,\n",
              " 548,\n",
              " 548,\n",
              " 548,\n",
              " ...]"
            ]
          },
          "execution_count": 27,
          "metadata": {},
          "output_type": "execute_result"
        }
      ],
      "source": [
        "a = sorted(rating_freq_df['rating'], reverse=True)\n",
        "b = a[:round((rating_freq_df.shape[0])*0.1)]\n",
        "sorted(b)"
      ]
    },
    {
      "cell_type": "code",
      "execution_count": null,
      "metadata": {},
      "outputs": [],
      "source": [
        "data['movieId'].unqiue()"
      ]
    },
    {
      "cell_type": "markdown",
      "metadata": {},
      "source": [
        "### outliers removal"
      ]
    },
    {
      "cell_type": "code",
      "execution_count": 12,
      "metadata": {},
      "outputs": [
        {
          "data": {
            "text/plain": [
              "<AxesSubplot:xlabel='rate_freq', ylabel='Count'>"
            ]
          },
          "execution_count": 12,
          "metadata": {},
          "output_type": "execute_result"
        },
        {
          "data": {
            "image/png": "[encoded data removed]",
            "text/plain": [
              "<Figure size 432x288 with 1 Axes>"
            ]
          },
          "metadata": {
            "needs_background": "light"
          },
          "output_type": "display_data"
        }
      ],
      "source": [
        "q1 = np.percentile(rating_freq_df['rating'],25)\n",
        "q3 = np.percentile(rating_freq_df['rating'],75)\n",
        "median = np.percentile(rating_freq_df['rating'],50)\n",
        "low = q1-1.5*(q3-q1)\n",
        "high = q3+1.5*(q3-q1)\n",
        "\n",
        "removed_hist = [rating_freq_df['rating'][i] for i in range(rating_freq_df.shape[0]) if rating_freq_df['rating'][i] <= high]\n",
        "temp_df = pd.DataFrame(removed_hist, columns=['rate_freq'])\n",
        "sns.histplot(data=temp_df, x='rate_freq',kde=True,bins=30)"
      ]
    },
    {
      "cell_type": "code",
      "execution_count": 7,
      "metadata": {},
      "outputs": [
        {
          "data": {
            "text/html": [
              "<div>\n",
              "<style scoped>\n",
              "    .dataframe tbody tr th:only-of-type {\n",
              "        vertical-align: middle;\n",
              "    }\n",
              "\n",
              "    .dataframe tbody tr th {\n",
              "        vertical-align: top;\n",
              "    }\n",
              "\n",
              "    .dataframe thead th {\n",
              "        text-align: right;\n",
              "    }\n",
              "</style>\n",
              "<table border=\"1\" class=\"dataframe\">\n",
              "  <thead>\n",
              "    <tr style=\"text-align: right;\">\n",
              "      <th></th>\n",
              "      <th>movieId</th>\n",
              "      <th>userId</th>\n",
              "      <th>rating</th>\n",
              "      <th>year</th>\n",
              "      <th>title</th>\n",
              "    </tr>\n",
              "  </thead>\n",
              "  <tbody>\n",
              "    <tr>\n",
              "      <th>0</th>\n",
              "      <td>1</td>\n",
              "      <td>u1488844</td>\n",
              "      <td>3</td>\n",
              "      <td>2003.0</td>\n",
              "      <td>Dinosaur Planet</td>\n",
              "    </tr>\n",
              "    <tr>\n",
              "      <th>1</th>\n",
              "      <td>1</td>\n",
              "      <td>u822109</td>\n",
              "      <td>5</td>\n",
              "      <td>2003.0</td>\n",
              "      <td>Dinosaur Planet</td>\n",
              "    </tr>\n",
              "    <tr>\n",
              "      <th>2</th>\n",
              "      <td>1</td>\n",
              "      <td>u885013</td>\n",
              "      <td>4</td>\n",
              "      <td>2003.0</td>\n",
              "      <td>Dinosaur Planet</td>\n",
              "    </tr>\n",
              "    <tr>\n",
              "      <th>3</th>\n",
              "      <td>1</td>\n",
              "      <td>u30878</td>\n",
              "      <td>4</td>\n",
              "      <td>2003.0</td>\n",
              "      <td>Dinosaur Planet</td>\n",
              "    </tr>\n",
              "    <tr>\n",
              "      <th>4</th>\n",
              "      <td>1</td>\n",
              "      <td>u823519</td>\n",
              "      <td>3</td>\n",
              "      <td>2003.0</td>\n",
              "      <td>Dinosaur Planet</td>\n",
              "    </tr>\n",
              "  </tbody>\n",
              "</table>\n",
              "</div>"
            ],
            "text/plain": [
              "   movieId    userId  rating    year            title\n",
              "0        1  u1488844       3  2003.0  Dinosaur Planet\n",
              "1        1   u822109       5  2003.0  Dinosaur Planet\n",
              "2        1   u885013       4  2003.0  Dinosaur Planet\n",
              "3        1    u30878       4  2003.0  Dinosaur Planet\n",
              "4        1   u823519       3  2003.0  Dinosaur Planet"
            ]
          },
          "execution_count": 7,
          "metadata": {},
          "output_type": "execute_result"
        }
      ],
      "source": [
        "ratings_df.head()"
      ]
    },
    {
      "cell_type": "code",
      "execution_count": 36,
      "metadata": {},
      "outputs": [
        {
          "data": {
            "text/plain": [
              "12303.800000000021"
            ]
          },
          "execution_count": 36,
          "metadata": {},
          "output_type": "execute_result"
        }
      ],
      "source": [
        "top10_user = np.percentile(rating_freq_df['rating'],90)\n",
        "top10_movie = np.percentile(movie_rating_freq_df['rating'],90)\n",
        "top10_movie"
      ]
    },
    {
      "cell_type": "code",
      "execution_count": 38,
      "metadata": {},
      "outputs": [
        {
          "data": {
            "text/html": [
              "<div>\n",
              "<style scoped>\n",
              "    .dataframe tbody tr th:only-of-type {\n",
              "        vertical-align: middle;\n",
              "    }\n",
              "\n",
              "    .dataframe tbody tr th {\n",
              "        vertical-align: top;\n",
              "    }\n",
              "\n",
              "    .dataframe thead th {\n",
              "        text-align: right;\n",
              "    }\n",
              "</style>\n",
              "<table border=\"1\" class=\"dataframe\">\n",
              "  <thead>\n",
              "    <tr style=\"text-align: right;\">\n",
              "      <th></th>\n",
              "      <th>movieId</th>\n",
              "      <th>rating</th>\n",
              "    </tr>\n",
              "  </thead>\n",
              "  <tbody>\n",
              "    <tr>\n",
              "      <th>0</th>\n",
              "      <td>1</td>\n",
              "      <td>547</td>\n",
              "    </tr>\n",
              "    <tr>\n",
              "      <th>1</th>\n",
              "      <td>2</td>\n",
              "      <td>145</td>\n",
              "    </tr>\n",
              "    <tr>\n",
              "      <th>2</th>\n",
              "      <td>3</td>\n",
              "      <td>2012</td>\n",
              "    </tr>\n",
              "    <tr>\n",
              "      <th>3</th>\n",
              "      <td>4</td>\n",
              "      <td>142</td>\n",
              "    </tr>\n",
              "    <tr>\n",
              "      <th>4</th>\n",
              "      <td>5</td>\n",
              "      <td>1140</td>\n",
              "    </tr>\n",
              "  </tbody>\n",
              "</table>\n",
              "</div>"
            ],
            "text/plain": [
              "   movieId  rating\n",
              "0        1     547\n",
              "1        2     145\n",
              "2        3    2012\n",
              "3        4     142\n",
              "4        5    1140"
            ]
          },
          "execution_count": 38,
          "metadata": {},
          "output_type": "execute_result"
        }
      ],
      "source": [
        "movie_rating_freq_df.head()"
      ]
    },
    {
      "cell_type": "code",
      "execution_count": 8,
      "metadata": {},
      "outputs": [
        {
          "data": {
            "text/plain": [
              "98.8224423375933"
            ]
          },
          "execution_count": 8,
          "metadata": {},
          "output_type": "execute_result"
        }
      ],
      "source": [
        "non_zero_cnt = ratings_df.shape[0]\n",
        "total_elements_cnt = len(ratings_df['userId'].unique())*len(ratings_df['movieId'].unique())\n",
        "\n",
        "# calculate matrix sparsity\n",
        "sparsity = (1 - (non_zero_cnt/total_elements_cnt))*100\n",
        "sparsity"
      ]
    },
    {
      "cell_type": "code",
      "execution_count": 9,
      "metadata": {},
      "outputs": [
        {
          "data": {
            "text/plain": [
              "movieId      int64\n",
              "userId      object\n",
              "rating       int64\n",
              "year       float64\n",
              "title       object\n",
              "dtype: object"
            ]
          },
          "execution_count": 9,
          "metadata": {},
          "output_type": "execute_result"
        }
      ],
      "source": [
        "ratings_df.dtypes"
      ]
    },
    {
      "cell_type": "code",
      "execution_count": 159,
      "metadata": {},
      "outputs": [
        {
          "name": "stdout",
          "output_type": "stream",
          "text": [
            "(1004805, 5)\n"
          ]
        },
        {
          "data": {
            "text/html": [
              "<div>\n",
              "<style scoped>\n",
              "    .dataframe tbody tr th:only-of-type {\n",
              "        vertical-align: middle;\n",
              "    }\n",
              "\n",
              "    .dataframe tbody tr th {\n",
              "        vertical-align: top;\n",
              "    }\n",
              "\n",
              "    .dataframe thead th {\n",
              "        text-align: right;\n",
              "    }\n",
              "</style>\n",
              "<table border=\"1\" class=\"dataframe\">\n",
              "  <thead>\n",
              "    <tr style=\"text-align: right;\">\n",
              "      <th></th>\n",
              "      <th>movieId</th>\n",
              "      <th>userId</th>\n",
              "      <th>rating</th>\n",
              "      <th>year</th>\n",
              "      <th>title</th>\n",
              "    </tr>\n",
              "  </thead>\n",
              "  <tbody>\n",
              "    <tr>\n",
              "      <th>0</th>\n",
              "      <td>15007</td>\n",
              "      <td>u1057513</td>\n",
              "      <td>3</td>\n",
              "      <td>1980.0</td>\n",
              "      <td>Any Which Way You Can</td>\n",
              "    </tr>\n",
              "    <tr>\n",
              "      <th>1</th>\n",
              "      <td>6972</td>\n",
              "      <td>u450009</td>\n",
              "      <td>5</td>\n",
              "      <td>1998.0</td>\n",
              "      <td>Armageddon</td>\n",
              "    </tr>\n",
              "    <tr>\n",
              "      <th>2</th>\n",
              "      <td>6205</td>\n",
              "      <td>u2132649</td>\n",
              "      <td>3</td>\n",
              "      <td>1983.0</td>\n",
              "      <td>Scarface: 20th Anniversary Edition</td>\n",
              "    </tr>\n",
              "    <tr>\n",
              "      <th>3</th>\n",
              "      <td>10165</td>\n",
              "      <td>u1517061</td>\n",
              "      <td>3</td>\n",
              "      <td>2000.0</td>\n",
              "      <td>Supernova</td>\n",
              "    </tr>\n",
              "    <tr>\n",
              "      <th>4</th>\n",
              "      <td>12508</td>\n",
              "      <td>u1761836</td>\n",
              "      <td>4</td>\n",
              "      <td>1968.0</td>\n",
              "      <td>Chitty Chitty Bang Bang</td>\n",
              "    </tr>\n",
              "  </tbody>\n",
              "</table>\n",
              "</div>"
            ],
            "text/plain": [
              "   movieId    userId  rating    year                               title\n",
              "0    15007  u1057513       3  1980.0               Any Which Way You Can\n",
              "1     6972   u450009       5  1998.0                          Armageddon\n",
              "2     6205  u2132649       3  1983.0  Scarface: 20th Anniversary Edition\n",
              "3    10165  u1517061       3  2000.0                           Supernova\n",
              "4    12508  u1761836       4  1968.0             Chitty Chitty Bang Bang"
            ]
          },
          "execution_count": 159,
          "metadata": {},
          "output_type": "execute_result"
        }
      ],
      "source": [
        "# randomly select .1% of the data\n",
        "ratings_df_sample = ratings_df.sample(frac=0.01,ignore_index=True)\n",
        "train, test = train_test_split(ratings_df_sample, test_size=0.2, random_state=42, shuffle=True)\n",
        "train = train.reset_index(drop=True)\n",
        "test = test.reset_index(drop=True)\n",
        "print(ratings_df_sample.shape)\n",
        "ratings_df_sample.head()\n",
        "train.head()"
      ]
    },
    {
      "cell_type": "code",
      "execution_count": 160,
      "metadata": {},
      "outputs": [
        {
          "data": {
            "text/plain": [
              "(803844, 5)"
            ]
          },
          "execution_count": 160,
          "metadata": {},
          "output_type": "execute_result"
        }
      ],
      "source": [
        "train.shape"
      ]
    },
    {
      "cell_type": "code",
      "execution_count": 161,
      "metadata": {},
      "outputs": [],
      "source": [
        "assert None not in set(ratings_df['rating'].unique()), 'There are some rows without a rating'\n",
        "assert 0 not in set(ratings_df['rating'].unique()), 'There are some rows with a rating being 0'\n",
        "assert ratings_df['title'].isna().any()==False, 'There are nan values in the movie title column'"
      ]
    },
    {
      "cell_type": "code",
      "execution_count": 162,
      "metadata": {},
      "outputs": [],
      "source": [
        "# key: each movie; item: a set of user ids\n",
        "moviesPerUser = defaultdict(set)\n",
        "# key: each user; item: a set of movie ids\n",
        "usersPerMovie = defaultdict(set)\n",
        "# key: each movie id; item: corresponding movie title\n",
        "movieTitles = {}\n",
        "# key: a tuple of user and movie; item: corresponding rating \n",
        "movieRatings = {}"
      ]
    },
    {
      "cell_type": "code",
      "execution_count": 163,
      "metadata": {},
      "outputs": [
        {
          "data": {
            "text/plain": [
              "(290613, 16313)"
            ]
          },
          "execution_count": 163,
          "metadata": {},
          "output_type": "execute_result"
        }
      ],
      "source": [
        "uniqueUsers = list(ratings_df_sample['userId'].unique())\n",
        "uniqueMovies = list(ratings_df_sample['movieId'].unique())\n",
        "len(uniqueUsers), len(uniqueMovies)"
      ]
    },
    {
      "cell_type": "code",
      "execution_count": 164,
      "metadata": {},
      "outputs": [],
      "source": [
        "for i in range(ratings_df_sample.shape[0]):\n",
        "    movie = ratings_df_sample['movieId'][i]\n",
        "    user = ratings_df_sample['userId'][i]\n",
        "    moviesPerUser[user].add(movie)\n",
        "    usersPerMovie[movie].add(user)\n",
        "    movieTitles[movie] = ratings_df_sample['title'][i]\n",
        "    movieRatings[user,movie] = ratings_df_sample['rating'][i]"
      ]
    },
    {
      "cell_type": "code",
      "execution_count": 165,
      "metadata": {},
      "outputs": [],
      "source": [
        "all_movies = set(ratings_df_sample['movieId'].unique())\n",
        "all_users = set(ratings_df_sample['userId'].unique())\n",
        "\n",
        "# get index by movie id\n",
        "movie_index = dict(zip(list(all_movies),list(range(len(all_movies)))))\n",
        "# get index by user id \n",
        "user_index = dict(zip(list(all_users),list(range(len(all_users)))))\n",
        "# get movie id by index\n",
        "index_movie = dict(zip(list(range(len(all_movies))),list(all_movies)))\n",
        "# get user id by index\n",
        "index_user = dict(zip(list(range(len(all_users))),list(all_users)))\n",
        "\n",
        "assert len(movie_index.keys()) == len(uniqueMovies), 'Check the length of movie_index vs. uniqueMovies'\n",
        "assert len(user_index.keys()) == len(uniqueUsers), 'Check the length of user_index vs. uniqueUsers'\n"
      ]
    },
    {
      "cell_type": "code",
      "execution_count": 166,
      "metadata": {},
      "outputs": [],
      "source": [
        "from scipy.sparse import coo_matrix\n",
        "\n",
        "row, col, data = [],[],[]\n",
        "\n",
        "# get unique movies from the chosen train dataframe\n",
        "for m in train['movieId'].unique():\n",
        "    # only get unique users that are in the chosen train dataframe\n",
        "    users_df = train[train['movieId'] == m]\n",
        "    users = users_df['userId'].unique()\n",
        "    i = movie_index[m]\n",
        "    for u in users:\n",
        "        row.append(i)\n",
        "        j = user_index[u]\n",
        "        col.append(j)\n",
        "        data.append(movieRatings[u,m])\n",
        "\n",
        "assert len(row) == len(col) == len(data), 'length is not equal'"
      ]
    },
    {
      "cell_type": "code",
      "execution_count": 167,
      "metadata": {},
      "outputs": [],
      "source": [
        "matrix = coo_matrix((data, (row, col)), shape=(len(movie_index),len(user_index)), dtype=np.int8).toarray()"
      ]
    },
    {
      "cell_type": "code",
      "execution_count": 168,
      "metadata": {},
      "outputs": [
        {
          "data": {
            "text/plain": [
              "(16313, 290613)"
            ]
          },
          "execution_count": 168,
          "metadata": {},
          "output_type": "execute_result"
        }
      ],
      "source": [
        "matrix.shape"
      ]
    },
    {
      "cell_type": "code",
      "execution_count": 169,
      "metadata": {},
      "outputs": [],
      "source": [
        "import pandas as pd \n",
        "import numpy as np \n",
        "from scipy.sparse import csc_matrix\n",
        "import pickle\n",
        "import time\n",
        "import os\n",
        "import random\n",
        "from multiprocess import Manager, Process, Queue, Lock\n",
        "\n",
        "# The consumer function takes data off of the Queue\n",
        "def consumer(tasks, print_lock, task_lock, matrix, rating_avg, max_row):\n",
        "    # Synchronize access to the console\n",
        "    # with print_lock:\n",
        "    #     print('Starting consumer => {}'.format(os.getpid()))\n",
        "     \n",
        "    # Run indefinitely\n",
        "    while True:\n",
        "        task = None\n",
        "\n",
        "        with task_lock:\n",
        "            try:\n",
        "                task = tasks.pop()\n",
        "            except:\n",
        "                return\n",
        "        print(task*10000)\n",
        "        # do task\n",
        "        for a in range(10000):\n",
        "            i = task*10000+a\n",
        "            if i > max_row:\n",
        "                break\n",
        "            rating_sum = sum(matrix[:,i])\n",
        "            user = index_user[i]\n",
        "            movies = moviesPerUser[user]\n",
        "            rating_avg[i] = rating_sum/len(movies)\n",
        "            "
      ]
    },
    {
      "cell_type": "code",
      "execution_count": 170,
      "metadata": {},
      "outputs": [
        {
          "name": "stdout",
          "output_type": "stream",
          "text": [
            "launching threads\n",
            "1000000\n",
            "980000990000\n",
            "\n",
            "970000950000960000\n",
            "\n",
            "\n",
            "930000940000920000\n",
            "\n",
            "910000\n",
            "\n",
            "900000880000890000870000\n",
            "\n",
            "\n",
            "860000\n",
            "850000840000\n",
            "\n",
            "830000\n",
            "820000810000800000\n",
            "\n",
            "780000790000770000\n",
            "\n",
            "\n",
            "\n",
            "760000\n",
            "750000740000730000720000\n",
            "710000700000\n",
            "690000\n",
            "\n",
            "\n",
            "\n",
            "\n",
            "680000\n",
            "670000660000650000640000630000620000610000\n",
            "\n",
            "\n",
            "600000\n",
            "\n",
            "\n",
            "\n",
            "590000\n",
            "\n",
            "580000570000550000560000540000530000520000\n",
            "510000\n",
            "500000\n",
            "\n",
            "\n",
            "\n",
            "\n",
            "\n",
            "\n",
            "\n",
            "490000470000480000460000450000440000430000420000410000\n",
            "400000\n",
            "390000\n",
            "\n",
            "\n",
            "\n",
            "\n",
            "\n",
            "380000\n",
            "\n",
            "\n",
            "360000370000350000340000330000\n",
            "\n",
            "320000310000\n",
            "\n",
            "\n",
            "300000280000\n",
            "290000270000\n",
            "260000250000\n",
            "240000\n",
            "220000230000\n",
            "\n",
            "210000\n",
            "\n",
            "200000\n",
            "190000\n",
            "\n",
            "180000\n",
            "170000\n",
            "160000\n",
            "\n",
            "\n",
            "\n",
            "\n",
            "150000\n",
            "140000\n",
            "130000\n",
            "120000\n",
            "110000\n",
            "100000\n",
            "90000\n",
            "80000\n",
            "70000\n",
            "60000\n",
            "50000\n",
            "40000\n",
            "30000\n",
            "20000\n",
            "100000\n",
            "\n",
            "cleared process 0\n",
            "cleared process 1\n",
            "cleared process 2\n",
            "cleared process 3\n",
            "cleared process 4\n",
            "cleared process 5\n",
            "cleared process 6\n",
            "cleared process 7\n",
            "cleared process 8\n",
            "cleared process 9\n",
            "cleared process 10\n",
            "cleared process 11\n",
            "cleared process 12\n",
            "cleared process 13\n",
            "cleared process 14\n",
            "cleared process 15\n",
            "cleared process 16\n",
            "cleared process 17\n",
            "cleared process 18\n",
            "cleared process 19\n",
            "cleared process 20\n",
            "cleared process 21\n",
            "cleared process 22\n",
            "cleared process 23\n",
            "cleared process 24\n",
            "cleared process 25\n",
            "cleared process 26\n",
            "cleared process 27\n",
            "cleared process 28\n",
            "cleared process 29\n",
            "cleared process 30\n",
            "cleared process 31\n",
            "Parent process exiting...\n"
          ]
        }
      ],
      "source": [
        "# Create a lock object to synchronize resource access\n",
        "print_lock = Lock()\n",
        "task_lock = Lock()\n",
        "\n",
        "consumers = []\n",
        "\n",
        "NUM_THREADS = 32\n",
        "\n",
        "manager = Manager()\n",
        "tasks = manager.list()\n",
        "rating_avg = manager.dict()\n",
        "\n",
        "max_row = len(user_index)-1\n",
        "index = list(range((ratings_df_sample.shape[0]//10000)+1))\n",
        "tasks.extend(index)\n",
        "# print(len(tasks))\n",
        "\n",
        "\n",
        "# Create consumer processes\n",
        "for i in range(NUM_THREADS):\n",
        "    p = Process(target=consumer, args=(tasks, print_lock, task_lock, matrix, rating_avg, max_row))\n",
        "        \n",
        "    p.daemon = False\n",
        "    consumers.append(p)\n",
        "print('launching threads')\n",
        "for c in consumers:\n",
        "    c.start()\n",
        "\n",
        "for idx, c in enumerate(consumers):\n",
        "    c.join()\n",
        "    print(f'cleared process {idx}')\n",
        "\n",
        "print('Parent process exiting...')\n",
        "\n"
      ]
    },
    {
      "cell_type": "code",
      "execution_count": 171,
      "metadata": {},
      "outputs": [
        {
          "data": {
            "text/plain": [
              "290613"
            ]
          },
          "execution_count": 171,
          "metadata": {},
          "output_type": "execute_result"
        }
      ],
      "source": [
        "len(rating_avg)"
      ]
    },
    {
      "cell_type": "code",
      "execution_count": 73,
      "metadata": {},
      "outputs": [],
      "source": [
        "# rating_avg = {}\n",
        "# for i in range(len(user_index)):\n",
        "#     rating_sum = sum(matrix[:,i])\n",
        "#     user = index_user[i]\n",
        "#     movies = moviesPerUser[user]\n",
        "#     rating_avg[i] = rating_sum/len(movies)\n"
      ]
    },
    {
      "cell_type": "code",
      "execution_count": 172,
      "metadata": {},
      "outputs": [
        {
          "data": {
            "text/plain": [
              "('u1149181', 'u1467436')"
            ]
          },
          "execution_count": 172,
          "metadata": {},
          "output_type": "execute_result"
        }
      ],
      "source": [
        "import random\n",
        "# get a random user a\n",
        "random_user_a = random.choice(list(moviesPerUser.keys()))\n",
        "\n",
        "# get a random user b\n",
        "random_user_b = random.choice(list(moviesPerUser.keys()))\n",
        "random_user_a, random_user_b"
      ]
    },
    {
      "cell_type": "code",
      "execution_count": 173,
      "metadata": {},
      "outputs": [],
      "source": [
        "user_a_index = user_index[random_user_a]\n",
        "user_b_index = user_index[random_user_b]\n",
        "\n",
        "vector_a = np.zeros(len(matrix[:,user_a_index]))\n",
        "vector_b = np.zeros(len(matrix[:,user_b_index]))\n",
        "for i in range(len(matrix[:,user_a_index])):\n",
        "    if matrix[:,user_a_index][i] > 0:\n",
        "        vector_a[i] = matrix[:,user_a_index][i]-rating_avg[user_a_index]\n",
        "    if matrix[:,user_b_index][i] > 0:\n",
        "        vector_b[i] = matrix[:,user_b_index][i]-rating_avg[user_b_index]\n",
        "\n",
        "assert len(vector_b) == len(vector_a)"
      ]
    },
    {
      "cell_type": "code",
      "execution_count": 174,
      "metadata": {},
      "outputs": [],
      "source": [
        "def cal_cosine_similarity(vector_a,vector_b):\n",
        "    vector_a = np.array([vector_a])\n",
        "    vector_b = np.array([vector_b])\n",
        "    return float(cosine_similarity(vector_a, vector_b))"
      ]
    },
    {
      "cell_type": "code",
      "execution_count": 175,
      "metadata": {},
      "outputs": [
        {
          "data": {
            "text/plain": [
              "0.0"
            ]
          },
          "execution_count": 175,
          "metadata": {},
          "output_type": "execute_result"
        }
      ],
      "source": [
        "cal_cosine_similarity(vector_a, vector_b)"
      ]
    },
    {
      "cell_type": "code",
      "execution_count": 176,
      "metadata": {},
      "outputs": [
        {
          "data": {
            "text/plain": [
              "3.6053338707510414"
            ]
          },
          "execution_count": 176,
          "metadata": {},
          "output_type": "execute_result"
        }
      ],
      "source": [
        "ratingMean = sum(d for d in train['rating']) / train.shape[0]\n",
        "ratingMean"
      ]
    },
    {
      "cell_type": "code",
      "execution_count": 177,
      "metadata": {},
      "outputs": [],
      "source": [
        "def prediction(chosen_user, chosen_movie, matrix):\n",
        "\n",
        "    user_a_index = user_index[chosen_user]\n",
        "    vector_a = np.zeros(len(matrix[:,user_a_index]))\n",
        "\n",
        "    cosine_similarity_list = []\n",
        "\n",
        "    for user in usersPerMovie[chosen_movie]:\n",
        "        if user_index[chosen_user] != user_index[user]:\n",
        "            user_b_index = user_index[user]\n",
        "            vector_b = np.zeros(len(matrix[:,user_b_index]))\n",
        "            for i in range(len(matrix[:,user_a_index])):\n",
        "                if matrix[:,user_a_index][i] > 0:\n",
        "                    vector_a[i] = matrix[:,user_a_index][i]-rating_avg[user_a_index]\n",
        "                if matrix[:,user_b_index][i] > 0:\n",
        "                    vector_b[i] = matrix[:,user_b_index][i]-rating_avg[user_b_index]\n",
        "            if cal_cosine_similarity(vector_a,vector_b) > 0: \n",
        "                cosine_similarity_list.append((cal_cosine_similarity(vector_a,vector_b),user))\n",
        "    similarity_sort = sorted(cosine_similarity_list,reverse=True)\n",
        "    if len(similarity_sort) >= 10:\n",
        "        similarity_sort = similarity_sort[:10]\n",
        "    elif 0 < len(similarity_sort) < 10:\n",
        "        similarity_sort = similarity_sort[:len(similarity_sort)]\n",
        "    print(similarity_sort)\n",
        "    if len(similarity_sort) == 0:\n",
        "        predicted_rating = ratingMean\n",
        "    else:\n",
        "        sort_d = {}\n",
        "        for e in similarity_sort:\n",
        "            sort_d[e[1]] = e[0]\n",
        "        # calcualte weighted rating\n",
        "        nom = 0\n",
        "        for u in sort_d:\n",
        "            nom += movieRatings[u,chosen_movie]*sort_d[u]\n",
        "        predicted_rating = nom/sum(sort_d.values())\n",
        "\n",
        "    return predicted_rating\n",
        "            \n",
        "                    "
      ]
    },
    {
      "cell_type": "code",
      "execution_count": 183,
      "metadata": {},
      "outputs": [
        {
          "name": "stdout",
          "output_type": "stream",
          "text": [
            "[(0.6674912392349772, 'u2547841'), (0.09950371902099885, 'u1897101'), (0.09950371902099885, 'u1813120'), (0.09950371902099885, 'u1697933'), (0.09950371902099885, 'u1495746'), (0.09950371902099885, 'u1225003'), (0.09484756663411144, 'u167111'), (0.0889988318979969, 'u1471225'), (0.08546432862766984, 'u416384'), (0.08477844894315521, 'u356225')]\n",
            "4.364095171113086 3\n"
          ]
        }
      ],
      "source": [
        "chosen_user = random.choice(list(moviesPerUser.keys()))\n",
        "chosen_movie = random.choice(list(moviesPerUser[chosen_user]))\n",
        "\n",
        "print(prediction(chosen_user,chosen_movie, matrix), movieRatings[chosen_user,chosen_movie])"
      ]
    },
    {
      "cell_type": "code",
      "execution_count": 184,
      "metadata": {},
      "outputs": [
        {
          "data": {
            "text/plain": [
              "(200961, 5)"
            ]
          },
          "execution_count": 184,
          "metadata": {},
          "output_type": "execute_result"
        }
      ],
      "source": [
        "test.shape"
      ]
    },
    {
      "cell_type": "code",
      "execution_count": 185,
      "metadata": {},
      "outputs": [
        {
          "name": "stdout",
          "output_type": "stream",
          "text": [
            "[]\n",
            "[]\n",
            "[(0.23573273566458308, 'u921585'), (0.17197206437655044, 'u1704892'), (0.07848649076044448, 'u106260')]\n"
          ]
        },
        {
          "ename": "KeyboardInterrupt",
          "evalue": "",
          "output_type": "error",
          "traceback": [
            "\u001b[0;31m---------------------------------------------------------------------------\u001b[0m",
            "\u001b[0;31mKeyboardInterrupt\u001b[0m                         Traceback (most recent call last)",
            "\u001b[0;32m<ipython-input-185-011d9eb9944a>\u001b[0m in \u001b[0;36m<module>\u001b[0;34m\u001b[0m\n\u001b[1;32m      3\u001b[0m     \u001b[0;32mreturn\u001b[0m \u001b[0msum\u001b[0m\u001b[0;34m(\u001b[0m\u001b[0mdifferences\u001b[0m\u001b[0;34m)\u001b[0m \u001b[0;34m/\u001b[0m \u001b[0mlen\u001b[0m\u001b[0;34m(\u001b[0m\u001b[0mdifferences\u001b[0m\u001b[0;34m)\u001b[0m\u001b[0;34m\u001b[0m\u001b[0;34m\u001b[0m\u001b[0m\n\u001b[1;32m      4\u001b[0m \u001b[0;34m\u001b[0m\u001b[0m\n\u001b[0;32m----> 5\u001b[0;31m \u001b[0mpredictions\u001b[0m \u001b[0;34m=\u001b[0m \u001b[0;34m[\u001b[0m\u001b[0mprediction\u001b[0m\u001b[0;34m(\u001b[0m\u001b[0mtest\u001b[0m\u001b[0;34m[\u001b[0m\u001b[0;34m'userId'\u001b[0m\u001b[0;34m]\u001b[0m\u001b[0;34m.\u001b[0m\u001b[0miloc\u001b[0m\u001b[0;34m[\u001b[0m\u001b[0mi\u001b[0m\u001b[0;34m]\u001b[0m\u001b[0;34m,\u001b[0m \u001b[0mtest\u001b[0m\u001b[0;34m[\u001b[0m\u001b[0;34m'movieId'\u001b[0m\u001b[0;34m]\u001b[0m\u001b[0;34m.\u001b[0m\u001b[0miloc\u001b[0m\u001b[0;34m[\u001b[0m\u001b[0mi\u001b[0m\u001b[0;34m]\u001b[0m\u001b[0;34m,\u001b[0m\u001b[0mmatrix\u001b[0m\u001b[0;34m)\u001b[0m \u001b[0;32mfor\u001b[0m \u001b[0mi\u001b[0m \u001b[0;32min\u001b[0m \u001b[0mrange\u001b[0m\u001b[0;34m(\u001b[0m\u001b[0mtest\u001b[0m\u001b[0;34m.\u001b[0m\u001b[0mshape\u001b[0m\u001b[0;34m[\u001b[0m\u001b[0;36m0\u001b[0m\u001b[0;34m]\u001b[0m\u001b[0;34m)\u001b[0m\u001b[0;34m]\u001b[0m\u001b[0;34m\u001b[0m\u001b[0;34m\u001b[0m\u001b[0m\n\u001b[0m\u001b[1;32m      6\u001b[0m \u001b[0mprint\u001b[0m\u001b[0;34m(\u001b[0m\u001b[0mMSE\u001b[0m\u001b[0;34m(\u001b[0m\u001b[0mpredictions\u001b[0m\u001b[0;34m,\u001b[0m \u001b[0mtest\u001b[0m\u001b[0;34m[\u001b[0m\u001b[0;34m'rating'\u001b[0m\u001b[0;34m]\u001b[0m\u001b[0;34m.\u001b[0m\u001b[0mtolist\u001b[0m\u001b[0;34m(\u001b[0m\u001b[0;34m)\u001b[0m\u001b[0;34m)\u001b[0m\u001b[0;34m)\u001b[0m\u001b[0;34m\u001b[0m\u001b[0;34m\u001b[0m\u001b[0m\n",
            "\u001b[0;32m<ipython-input-185-011d9eb9944a>\u001b[0m in \u001b[0;36m<listcomp>\u001b[0;34m(.0)\u001b[0m\n\u001b[1;32m      3\u001b[0m     \u001b[0;32mreturn\u001b[0m \u001b[0msum\u001b[0m\u001b[0;34m(\u001b[0m\u001b[0mdifferences\u001b[0m\u001b[0;34m)\u001b[0m \u001b[0;34m/\u001b[0m \u001b[0mlen\u001b[0m\u001b[0;34m(\u001b[0m\u001b[0mdifferences\u001b[0m\u001b[0;34m)\u001b[0m\u001b[0;34m\u001b[0m\u001b[0;34m\u001b[0m\u001b[0m\n\u001b[1;32m      4\u001b[0m \u001b[0;34m\u001b[0m\u001b[0m\n\u001b[0;32m----> 5\u001b[0;31m \u001b[0mpredictions\u001b[0m \u001b[0;34m=\u001b[0m \u001b[0;34m[\u001b[0m\u001b[0mprediction\u001b[0m\u001b[0;34m(\u001b[0m\u001b[0mtest\u001b[0m\u001b[0;34m[\u001b[0m\u001b[0;34m'userId'\u001b[0m\u001b[0;34m]\u001b[0m\u001b[0;34m.\u001b[0m\u001b[0miloc\u001b[0m\u001b[0;34m[\u001b[0m\u001b[0mi\u001b[0m\u001b[0;34m]\u001b[0m\u001b[0;34m,\u001b[0m \u001b[0mtest\u001b[0m\u001b[0;34m[\u001b[0m\u001b[0;34m'movieId'\u001b[0m\u001b[0;34m]\u001b[0m\u001b[0;34m.\u001b[0m\u001b[0miloc\u001b[0m\u001b[0;34m[\u001b[0m\u001b[0mi\u001b[0m\u001b[0;34m]\u001b[0m\u001b[0;34m,\u001b[0m\u001b[0mmatrix\u001b[0m\u001b[0;34m)\u001b[0m \u001b[0;32mfor\u001b[0m \u001b[0mi\u001b[0m \u001b[0;32min\u001b[0m \u001b[0mrange\u001b[0m\u001b[0;34m(\u001b[0m\u001b[0mtest\u001b[0m\u001b[0;34m.\u001b[0m\u001b[0mshape\u001b[0m\u001b[0;34m[\u001b[0m\u001b[0;36m0\u001b[0m\u001b[0;34m]\u001b[0m\u001b[0;34m)\u001b[0m\u001b[0;34m]\u001b[0m\u001b[0;34m\u001b[0m\u001b[0;34m\u001b[0m\u001b[0m\n\u001b[0m\u001b[1;32m      6\u001b[0m \u001b[0mprint\u001b[0m\u001b[0;34m(\u001b[0m\u001b[0mMSE\u001b[0m\u001b[0;34m(\u001b[0m\u001b[0mpredictions\u001b[0m\u001b[0;34m,\u001b[0m \u001b[0mtest\u001b[0m\u001b[0;34m[\u001b[0m\u001b[0;34m'rating'\u001b[0m\u001b[0;34m]\u001b[0m\u001b[0;34m.\u001b[0m\u001b[0mtolist\u001b[0m\u001b[0;34m(\u001b[0m\u001b[0;34m)\u001b[0m\u001b[0;34m)\u001b[0m\u001b[0;34m)\u001b[0m\u001b[0;34m\u001b[0m\u001b[0;34m\u001b[0m\u001b[0m\n",
            "\u001b[0;32m<ipython-input-177-74eb580f34df>\u001b[0m in \u001b[0;36mprediction\u001b[0;34m(chosen_user, chosen_movie, matrix)\u001b[0m\n\u001b[1;32m     11\u001b[0m             \u001b[0mvector_b\u001b[0m \u001b[0;34m=\u001b[0m \u001b[0mnp\u001b[0m\u001b[0;34m.\u001b[0m\u001b[0mzeros\u001b[0m\u001b[0;34m(\u001b[0m\u001b[0mlen\u001b[0m\u001b[0;34m(\u001b[0m\u001b[0mmatrix\u001b[0m\u001b[0;34m[\u001b[0m\u001b[0;34m:\u001b[0m\u001b[0;34m,\u001b[0m\u001b[0muser_b_index\u001b[0m\u001b[0;34m]\u001b[0m\u001b[0;34m)\u001b[0m\u001b[0;34m)\u001b[0m\u001b[0;34m\u001b[0m\u001b[0;34m\u001b[0m\u001b[0m\n\u001b[1;32m     12\u001b[0m             \u001b[0;32mfor\u001b[0m \u001b[0mi\u001b[0m \u001b[0;32min\u001b[0m \u001b[0mrange\u001b[0m\u001b[0;34m(\u001b[0m\u001b[0mlen\u001b[0m\u001b[0;34m(\u001b[0m\u001b[0mmatrix\u001b[0m\u001b[0;34m[\u001b[0m\u001b[0;34m:\u001b[0m\u001b[0;34m,\u001b[0m\u001b[0muser_a_index\u001b[0m\u001b[0;34m]\u001b[0m\u001b[0;34m)\u001b[0m\u001b[0;34m)\u001b[0m\u001b[0;34m:\u001b[0m\u001b[0;34m\u001b[0m\u001b[0;34m\u001b[0m\u001b[0m\n\u001b[0;32m---> 13\u001b[0;31m                 \u001b[0;32mif\u001b[0m \u001b[0mmatrix\u001b[0m\u001b[0;34m[\u001b[0m\u001b[0;34m:\u001b[0m\u001b[0;34m,\u001b[0m\u001b[0muser_a_index\u001b[0m\u001b[0;34m]\u001b[0m\u001b[0;34m[\u001b[0m\u001b[0mi\u001b[0m\u001b[0;34m]\u001b[0m \u001b[0;34m>\u001b[0m \u001b[0;36m0\u001b[0m\u001b[0;34m:\u001b[0m\u001b[0;34m\u001b[0m\u001b[0;34m\u001b[0m\u001b[0m\n\u001b[0m\u001b[1;32m     14\u001b[0m                     \u001b[0mvector_a\u001b[0m\u001b[0;34m[\u001b[0m\u001b[0mi\u001b[0m\u001b[0;34m]\u001b[0m \u001b[0;34m=\u001b[0m \u001b[0mmatrix\u001b[0m\u001b[0;34m[\u001b[0m\u001b[0;34m:\u001b[0m\u001b[0;34m,\u001b[0m\u001b[0muser_a_index\u001b[0m\u001b[0;34m]\u001b[0m\u001b[0;34m[\u001b[0m\u001b[0mi\u001b[0m\u001b[0;34m]\u001b[0m\u001b[0;34m-\u001b[0m\u001b[0mrating_avg\u001b[0m\u001b[0;34m[\u001b[0m\u001b[0muser_a_index\u001b[0m\u001b[0;34m]\u001b[0m\u001b[0;34m\u001b[0m\u001b[0;34m\u001b[0m\u001b[0m\n\u001b[1;32m     15\u001b[0m                 \u001b[0;32mif\u001b[0m \u001b[0mmatrix\u001b[0m\u001b[0;34m[\u001b[0m\u001b[0;34m:\u001b[0m\u001b[0;34m,\u001b[0m\u001b[0muser_b_index\u001b[0m\u001b[0;34m]\u001b[0m\u001b[0;34m[\u001b[0m\u001b[0mi\u001b[0m\u001b[0;34m]\u001b[0m \u001b[0;34m>\u001b[0m \u001b[0;36m0\u001b[0m\u001b[0;34m:\u001b[0m\u001b[0;34m\u001b[0m\u001b[0;34m\u001b[0m\u001b[0m\n",
            "\u001b[0;31mKeyboardInterrupt\u001b[0m: "
          ]
        }
      ],
      "source": [
        "def MSE(predictions, labels):\n",
        "    differences = [(x-y)**2 for x,y in zip(predictions,labels)]\n",
        "    return sum(differences) / len(differences)\n",
        "\n",
        "predictions = [prediction(test['userId'].iloc[i], test['movieId'].iloc[i],matrix) for i in range(test.shape[0])]\n",
        "print(MSE(predictions, test['rating'].tolist()))"
      ]
    },
    {
      "cell_type": "code",
      "execution_count": 33,
      "metadata": {},
      "outputs": [
        {
          "data": {
            "text/plain": [
              "1432"
            ]
          },
          "execution_count": 33,
          "metadata": {},
          "output_type": "execute_result"
        }
      ],
      "source": [
        "len(usersPerMovie[chosen_movie])"
      ]
    },
    {
      "cell_type": "code",
      "execution_count": 131,
      "metadata": {},
      "outputs": [
        {
          "data": {
            "text/plain": [
              "(9313, 77481)"
            ]
          },
          "execution_count": 131,
          "metadata": {},
          "output_type": "execute_result"
        }
      ],
      "source": [
        "# initialize the matrix size with all zeros\n",
        "matrix = np.zeros((len(uniqueMovies),len(uniqueUsers)))\n",
        "matrix.shape"
      ]
    },
    {
      "cell_type": "code",
      "execution_count": null,
      "metadata": {},
      "outputs": [],
      "source": [
        "for m in usersPerMovie:\n",
        "    users = usersPerMovie[m]\n",
        "    for u in users:\n",
        "        i = movie_index[m]\n",
        "        j = user_index[u]\n",
        "        matrix[i][j] = movieRatings[u,m]"
      ]
    },
    {
      "cell_type": "code",
      "execution_count": null,
      "metadata": {},
      "outputs": [],
      "source": [
        "title = movieTitles[index_movie[0]]\n",
        "ratings_df_sample[ratings_df_sample['title']==title]"
      ]
    },
    {
      "cell_type": "code",
      "execution_count": null,
      "metadata": {},
      "outputs": [],
      "source": []
    },
    {
      "cell_type": "code",
      "execution_count": null,
      "metadata": {},
      "outputs": [],
      "source": [
        "import sklearn \n",
        "from sklearn.metrics.pairwise import cosine_similarity\n",
        "\n",
        "def cal_cosine_similarity(product_x,product_y,matrix):\n",
        "    # get index of product x\n",
        "    i = movie_index[product_x]\n",
        "    # get index of product y\n",
        "    j = movie_index[product_y]\n",
        "    # find the corresponding rows in the matrix\n",
        "    x = np.array([matrix[i]])\n",
        "    y = np.array([matrix[j]])\n",
        "    return float(cosine_similarity(x,y))"
      ]
    },
    {
      "cell_type": "code",
      "execution_count": 89,
      "metadata": {},
      "outputs": [
        {
          "data": {
            "text/plain": [
              "6727"
            ]
          },
          "execution_count": 89,
          "metadata": {},
          "output_type": "execute_result"
        }
      ],
      "source": [
        "import random\n",
        "# get a random product\n",
        "random_movie_a = random.choice(list(usersPerMovie.keys()))\n",
        "random_movie_a"
      ]
    },
    {
      "cell_type": "code",
      "execution_count": 90,
      "metadata": {},
      "outputs": [
        {
          "data": {
            "text/plain": [
              "669"
            ]
          },
          "execution_count": 90,
          "metadata": {},
          "output_type": "execute_result"
        }
      ],
      "source": [
        "random_movie_b = random.choice(list(usersPerMovie.keys()))\n",
        "random_movie_b"
      ]
    },
    {
      "cell_type": "code",
      "execution_count": 91,
      "metadata": {},
      "outputs": [
        {
          "data": {
            "text/plain": [
              "0.0"
            ]
          },
          "execution_count": 91,
          "metadata": {},
          "output_type": "execute_result"
        }
      ],
      "source": [
        "cal_cosine_similarity(random_movie_a,random_movie_b,matrix)"
      ]
    },
    {
      "cell_type": "code",
      "execution_count": null,
      "metadata": {},
      "outputs": [],
      "source": [
        "def process_result(movie,matrix):\n",
        "    movie_x = movie\n",
        "    similar_movies = set()\n",
        "    for k in range(len(matrix)):\n",
        "        movie_y = index_movie[k]\n",
        "        if movie_x == movie_y:\n",
        "            continue\n",
        "        else:\n",
        "            similar_movies.add((cal_cosine_similarity(movie_x,movie_y,matrix),movie_y))\n",
        "    # sort the similarity in descending order\n",
        "    similar_movies = sorted(similar_movies,reverse=True)\n",
        "    non_zeros = []\n",
        "    for i in similar_movies:\n",
        "        if i[0] > 0:\n",
        "            non_zeros.append(i)\n",
        "    # if there are more than 5 similar items, get the top 5\n",
        "    if len(non_zeros) >= 5:\n",
        "        result = similar_movies[:5]\n",
        "    # if there are less than 5 similar items, get all of them\n",
        "    elif 0 < len(non_zeros) < 5:\n",
        "        result = similar_movies[:len(non_zeros)]\n",
        "    # if there is no similar item, return 'None'\n",
        "    else:\n",
        "        result = 'None'\n",
        "    return result"
      ]
    },
    {
      "cell_type": "code",
      "execution_count": null,
      "metadata": {},
      "outputs": [],
      "source": [
        "random_movie = random.choice(list(usersPerMovie.keys()))"
      ]
    },
    {
      "cell_type": "code",
      "execution_count": null,
      "metadata": {},
      "outputs": [],
      "source": [
        "\n",
        "result = process_result(random_movie,matrix)\n",
        "result"
      ]
    },
    {
      "cell_type": "code",
      "execution_count": null,
      "metadata": {},
      "outputs": [],
      "source": [
        "# get selected movie name\n",
        "selected_movie = movieTitles[random_movie]\n",
        "\n",
        "# get similar movie names\n",
        "movies = []\n",
        "for x in result:\n",
        "    if x != 'None' and x[1] in movieTitles:\n",
        "        movies.append(movieTitles[x[1]])\n",
        "selected_movie, movies             "
      ]
    },
    {
      "cell_type": "code",
      "execution_count": null,
      "metadata": {},
      "outputs": [],
      "source": [
        "ratingMean = sum(d for d in ratings_df_sample['rating']) / ratings_df_sample.shape[0]\n",
        "ratingMean"
      ]
    },
    {
      "cell_type": "code",
      "execution_count": null,
      "metadata": {},
      "outputs": [],
      "source": [
        "def predictRatingCosine(user,movie):\n",
        "    # obtain all movies that the user reviewed\n",
        "    compare_movies = moviesPerUser[user]\n",
        "    similarity_sort = set()\n",
        "    for p in compare_movies:\n",
        "        if p == movie: # skip if it is the same movie as the predicting movie \n",
        "            continue\n",
        "        else:\n",
        "            # calculate similarity between other reviewed movies and the predicting movie\n",
        "            similarity = cal_cosine_similarity(movie,p,matrix)\n",
        "            # if the similarity score is greater than 0 then store it in a set\n",
        "            if similarity > 0:\n",
        "                similarity_sort.add((similarity,p))\n",
        "    # sort all the similarity scores in descending order\n",
        "    similarity_sort = sorted(similarity_sort,reverse=True)\n",
        "    # get the top 5 if there are more than 5\n",
        "    if len(similarity_sort) >= 5:\n",
        "        similarity_sort = similarity_sort[:5]\n",
        "    # get all of them if there are less than 5\n",
        "    elif 0 < len(similarity_sort) < 5:\n",
        "        similarity_sort = similarity_sort[:len(similarity_sort)]\n",
        "    # if there is no movie that the user reviewed is similar to the predicting movie then use the global mean\n",
        "    if len(similarity_sort) == 0:\n",
        "        predicted_rating = ratingMean\n",
        "    else:\n",
        "        similarity_sort_dict = {}\n",
        "        for p in similarity_sort:\n",
        "            similarity_sort_dict[p[1]] = p[0]\n",
        "        # calcualte weighted rating\n",
        "        nom = 0\n",
        "        for p in similarity_sort_dict:\n",
        "            nom += movieRatings[user,p]*similarity_sort_dict[p]\n",
        "        predicted_rating = nom/sum(similarity_sort_dict.values())\n",
        "    return predicted_rating "
      ]
    },
    {
      "cell_type": "code",
      "execution_count": null,
      "metadata": {},
      "outputs": [],
      "source": [
        "random_user = random.choice(list(moviesPerUser.keys()))\n",
        "random_user"
      ]
    },
    {
      "cell_type": "code",
      "execution_count": null,
      "metadata": {},
      "outputs": [],
      "source": [
        "random_movie = random.choice(list(moviesPerUser[random_user]))\n",
        "random_movie"
      ]
    },
    {
      "cell_type": "code",
      "execution_count": null,
      "metadata": {},
      "outputs": [],
      "source": [
        "predictRatingCosine(random_user,random_movie), movieRatings[random_user,random_movie]"
      ]
    },
    {
      "cell_type": "code",
      "execution_count": null,
      "metadata": {},
      "outputs": [],
      "source": [
        "ratings_df_sample.groupby(by=['rating'],as_index=False).count()\n",
        "# ratings_df_sample"
      ]
    },
    {
      "cell_type": "code",
      "execution_count": null,
      "metadata": {},
      "outputs": [],
      "source": []
    },
    {
      "cell_type": "code",
      "execution_count": null,
      "metadata": {
        "colab": {
          "base_uri": "https://localhost:8080/"
        },
        "id": "OmEO_tWwCi6F",
        "outputId": "26bb06da-7a89-4aef-f438-ada37c63a673"
      },
      "outputs": [],
      "source": [
        "a = pd.merge(title_df, imdb_df, how = 'inner', left_on = 'title', right_on = 'original_title')\n",
        "a = a[a['year_x'] == a['year_y']]\n",
        "a.shape"
      ]
    },
    {
      "cell_type": "code",
      "execution_count": null,
      "metadata": {
        "colab": {
          "base_uri": "https://localhost:8080/",
          "height": 204
        },
        "id": "2P8I6TAJCn1s",
        "outputId": "9598d255-8c36-4cfc-f0c7-9ff20f62e1a2"
      },
      "outputs": [],
      "source": [
        "ratings.head()"
      ]
    },
    {
      "cell_type": "code",
      "execution_count": null,
      "metadata": {
        "colab": {
          "base_uri": "https://localhost:8080/",
          "height": 596
        },
        "id": "8vO9UGLpCp4y",
        "outputId": "c772d1d6-c101-4739-bfc6-bfb0c02a5d37"
      },
      "outputs": [],
      "source": [
        "import matplotlib.pyplot as plt\n",
        "\n",
        "\n",
        "p = ratings.groupby('rating')['rating'].agg(['count'])\n",
        "\n",
        "# get movie count\n",
        "movie_count = ratings['movieId'].nunique()\n",
        "# get user count\n",
        "user_count = ratings['userId'].nunique() \n",
        "# get rating count\n",
        "rating_count = ratings['userId'].count() \n",
        "\n",
        "ax = p.plot(kind = 'barh', legend = False, figsize = (15,10))\n",
        "plt.title('Total pool: {:,} Movies, {:,} customers, {:,} ratings given'.format(movie_count, user_count, rating_count), fontsize=20)\n",
        "plt.axis('off')\n",
        "\n",
        "for i in range(1,6):\n",
        "    ax.text(p.iloc[i-1][0]/4, i-1, 'Rating {}: {:.0f}%'.format(i, p.iloc[i-1][0]*100 / p.sum()[0]), color = 'red', weight = 'bold')"
      ]
    },
    {
      "cell_type": "code",
      "execution_count": null,
      "metadata": {
        "colab": {
          "base_uri": "https://localhost:8080/",
          "height": 419
        },
        "id": "dLluz7xhCseg",
        "outputId": "076a3ddc-8f1d-45d3-9359-df07dd6b0054"
      },
      "outputs": [],
      "source": [
        "sample_df = ratings[:2000000]\n",
        "sample_df"
      ]
    },
    {
      "cell_type": "code",
      "execution_count": null,
      "metadata": {
        "colab": {
          "base_uri": "https://localhost:8080/",
          "height": 419
        },
        "id": "YOcfw9Gq8aA-",
        "outputId": "96a45be0-1553-4f5f-e13e-29b01fd8be33"
      },
      "outputs": [],
      "source": [
        "ratings"
      ]
    },
    {
      "cell_type": "code",
      "execution_count": null,
      "metadata": {
        "colab": {
          "base_uri": "https://localhost:8080/",
          "height": 596
        },
        "id": "qLZlBQf7CwVk",
        "outputId": "d1776eba-d041-4be4-f146-7384c559d53f"
      },
      "outputs": [],
      "source": [
        "p = sample_df.groupby('rating')['rating'].agg(['count'])\n",
        "\n",
        "# get movie count\n",
        "movie_count = sample_df['movieId'].nunique()\n",
        "# get user count\n",
        "user_count = sample_df['userId'].nunique() \n",
        "# get rating count\n",
        "rating_count = sample_df['userId'].count() \n",
        "\n",
        "ax = p.plot(kind = 'barh', legend = False, figsize = (15,10))\n",
        "plt.title('Total pool: {:,} Movies, {:,} customers, {:,} ratings given'.format(movie_count, user_count, rating_count), fontsize=20)\n",
        "plt.axis('off')\n",
        "\n",
        "for i in range(1,6):\n",
        "    ax.text(p.iloc[i-1][0]/4, i-1, 'Rating {}: {:.0f}%'.format(i, p.iloc[i-1][0]*100 / p.sum()[0]), color = 'black', weight = 'bold')"
      ]
    },
    {
      "cell_type": "code",
      "execution_count": null,
      "metadata": {
        "colab": {
          "base_uri": "https://localhost:8080/"
        },
        "id": "HFAb8wofCyta",
        "outputId": "e81197c1-ed96-4692-a821-ed6e297453ad"
      },
      "outputs": [],
      "source": [
        "df_p = pd.pivot_table(ratings,values='rating',index='userId',columns='movieId')\n",
        "print(df_p.shape)"
      ]
    },
    {
      "cell_type": "code",
      "execution_count": null,
      "metadata": {
        "colab": {
          "base_uri": "https://localhost:8080/",
          "height": 470
        },
        "id": "VlpYPtv0EENl",
        "outputId": "0bc7fdcc-8666-4ced-9f17-b17e0c406e84"
      },
      "outputs": [],
      "source": [
        "df_p"
      ]
    },
    {
      "cell_type": "code",
      "execution_count": null,
      "metadata": {
        "id": "O7zfUQG-FkJV"
      },
      "outputs": [],
      "source": [
        "normalised_mat = df_p - np.asarray([(np.mean(df_p, 1))]).T\n",
        "A = normalised_mat.T / np.sqrt(df_p.shape[0] - 1)\n",
        "U, S, V = np.linalg.svd(A)"
      ]
    },
    {
      "cell_type": "code",
      "execution_count": null,
      "metadata": {
        "id": "4dp0CEHqGbbe"
      },
      "outputs": [],
      "source": []
    }
  ],
  "metadata": {
    "colab": {
      "collapsed_sections": [],
      "machine_shape": "hm",
      "name": "netflix_recommender.ipynb",
      "provenance": []
    },
    "interpreter": {
      "hash": "3f9f5e79cd6dd9ce5c329e8d75eb683331aa3b5dbe9f92fbcbb6d55b696397b4"
    },
    "kernelspec": {
      "display_name": "Python 3.8.10 64-bit ('hw': venv)",
      "name": "python3"
    },
    "language_info": {
      "codemirror_mode": {
        "name": "ipython",
        "version": 3
      },
      "file_extension": ".py",
      "mimetype": "text/x-python",
      "name": "python",
      "nbconvert_exporter": "python",
      "pygments_lexer": "ipython3",
      "version": "3.8.10"
    }
  },
  "nbformat": 4,
  "nbformat_minor": 2
}
